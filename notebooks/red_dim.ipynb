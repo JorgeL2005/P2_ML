{
 "cells": [
  {
   "cell_type": "markdown",
   "id": "2f272bee",
   "metadata": {},
   "source": [
    "# Reduccion de la dimensionalidad"
   ]
  },
  {
   "cell_type": "code",
   "execution_count": 1,
   "id": "ecd3beac",
   "metadata": {},
   "outputs": [],
   "source": [
    "import pandas as pd\n",
    "import cv2\n",
    "import numpy as np\n",
    "from tqdm import tqdm\n",
    "import os\n",
    "import matplotlib.pyplot as plt\n",
    "import pickle"
   ]
  },
  {
   "cell_type": "code",
   "execution_count": 2,
   "id": "63f6ccb6",
   "metadata": {},
   "outputs": [],
   "source": [
    "# Lee el archivo movies_combined_features.npz y conviertelo a un DataFrame de pandas\n",
    "data = np.load('movies_combined_features.npz', allow_pickle=True)\n"
   ]
  },
  {
   "cell_type": "code",
   "execution_count": 4,
   "id": "2c3204b2",
   "metadata": {},
   "outputs": [
    {
     "name": "stdout",
     "output_type": "stream",
     "text": [
      "  movieId                        title  \\\n",
      "0     619                    Ed (1996)   \n",
      "1   33826           Saint Ralph (2004)   \n",
      "2  140289         Men & Chicken (2015)   \n",
      "3    2868  Fright Night Part II (1988)   \n",
      "4   27826         Touch of Pink (2004)   \n",
      "\n",
      "                                            features  \n",
      "0  [0.19058356, 0.0979772, 0.076737955, 0.2980004...  \n",
      "1  [0.7005998, 0.025042623, 0.017594602, 0.319023...  \n",
      "2  [0.5831317, 0.35357442, 0.23846312, 0.5706941,...  \n",
      "3  [0.0803354, 0.012563372, 0.0074199205, 0.00971...  \n",
      "4  [0.4992489, 0.25805205, 0.26244, 0.43175837, 0...  \n",
      "\n",
      "✅ Total de películas: 5831\n",
      "✅ Dimensión del vector de features: 305\n"
     ]
    }
   ],
   "source": [
    "# Crear DataFrame\n",
    "df = pd.DataFrame({\n",
    "    \"movieId\": data[\"movieId\"],\n",
    "    \"title\": data[\"title\"],\n",
    "    \"features\": list(data[\"features\"])\n",
    "})\n",
    "\n",
    "print(df.head())\n",
    "print(f\"\\n✅ Total de películas: {len(df)}\")\n",
    "print(f\"✅ Dimensión del vector de features: {len(df['features'][0])}\")"
   ]
  },
  {
   "cell_type": "code",
   "execution_count": null,
   "id": "f03ad7b8",
   "metadata": {},
   "outputs": [
    {
     "name": "stdout",
     "output_type": "stream",
     "text": [
      "📦 Archivo guardado como 'movies_combined_features.parquet'\n"
     ]
    }
   ],
   "source": [
    "df.to_parquet(\"movies_combined_features.parquet\", index=False)"
   ]
  }
 ],
 "metadata": {
  "kernelspec": {
   "display_name": ".venv",
   "language": "python",
   "name": "python3"
  },
  "language_info": {
   "codemirror_mode": {
    "name": "ipython",
    "version": 3
   },
   "file_extension": ".py",
   "mimetype": "text/x-python",
   "name": "python",
   "nbconvert_exporter": "python",
   "pygments_lexer": "ipython3",
   "version": "3.13.9"
  }
 },
 "nbformat": 4,
 "nbformat_minor": 5
}
